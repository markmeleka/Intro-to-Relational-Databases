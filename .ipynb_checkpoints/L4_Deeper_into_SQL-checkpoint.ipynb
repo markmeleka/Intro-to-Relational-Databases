{
 "cells": [
  {
   "cell_type": "markdown",
   "metadata": {},
   "source": [
    "### 3. Normalized Design"
   ]
  },
  {
   "cell_type": "markdown",
   "metadata": {},
   "source": [
    "Check out William Kent's paper \"A Simple Guide to Five Normal Forms in Relational Database Theory\" (http://www.bkent.net/Doc/simple5.htm) for a lot more about normalization and how it can help your database design.\n",
    "\n",
    "Wikipedia's article (http://en.wikipedia.org/wiki/Database_normalization) on database normalization is somewhat brief, but describes some of the history of normalization as well as some more of the motivations for it.\n",
    "\n",
    "You will sometimes hear about denormalization as an approach to making database queries faster by avoiding joins. This is an advanced topic beyond the scope of this course. But if you're interested in it, on modern database systems (such as PostgreSQL) it is often possible to meet the same goals using tools such as indexes (http://www.postgresql.org/docs/9.4/static/sql-createindex.html) and materialized views (http://www.postgresql.org/docs/9.4/static/sql-creatematerializedview.html)."
   ]
  },
  {
   "cell_type": "markdown",
   "metadata": {},
   "source": [
    "### 4. What's Normalized?"
   ]
  },
  {
   "cell_type": "markdown",
   "metadata": {},
   "source": [
    "Rules for normalized tables:  \n",
    "\n",
    "**1.Every row has the same number of columns.**  \n",
    "In practice, the database system won't let us literally have different numbers of columns in different rows. But if we have columns that are sometimes empty (null) and sometimes not, or if we stuff multiple values into a single field, we're bending this rule.  \n",
    "\n",
    "The example to keep in mind here is the diet table from the zoo database. Instead of trying to stuff multiple foods for a species into a single row about that species, we separate them out. This makes it much easier to do aggregations and comparisons.\n",
    "\n",
    "**2.There is a unique key and everything in a row says something about the key.**  \n",
    "The key may be one column or more than one. It may even be the whole row, as in the diet table. But we don't have duplicate rows in a table.  \n",
    "\n",
    "More importantly, if we are storing non-unique facts — such as people's names — we distinguish them using a unique identifier such as a serial number. This makes sure that we don't combine two people's grades or parking tickets just because they have the same name.  \n",
    "  \n",
    "**3.Facts that don't relate to the key belong in different tables.**  \n",
    "The example here was the items table, which had items, their locations, and the location's street addresses in it. The address isn't a fact about the item; it's a fact about the location. Moving it to a separate table saves space and reduces ambiguity, and we can always reconstitute the original table using a join.  \n",
    "  \n",
    "**4.Tables shouldn't imply relationships that don't exist.**  \n",
    "The example here was the job_skills table, where a single row listed one of a person's technology skills (like 'Linux') and one of their language skills (like 'French'). This made it look like their Linux knowledge was specific to French, or vice versa ... when that isn't the case in the real world. Normalizing this involved splitting the tech skills and job skills into separate tables.  "
   ]
  },
  {
   "cell_type": "markdown",
   "metadata": {},
   "source": [
    "### 5. Create Table And Types"
   ]
  },
  {
   "cell_type": "markdown",
   "metadata": {},
   "source": [
    "There are occasions where you'd want to create tables from within your application's code. For instance, this can be a handy way to have it set itself up when you first run it. (That's what your browser does when it creates your cookies file, for instance.)"
   ]
  },
  {
   "cell_type": "markdown",
   "metadata": {},
   "source": [
    "### 6. Creating And Dropping"
   ]
  },
  {
   "cell_type": "markdown",
   "metadata": {},
   "source": [
    "Since not everything fits on the screen at once, here's what to try in psql:\n",
    "\n",
    "Create a new database called fishies (or whatever you like).\n",
    "Connect to it with \\c fishies, or by exiting psql and running psql fishies.\n",
    "In the new database, create a table that has two columns: a text column and a serial column.\n",
    "Try running insert statements into this table, providing only a value for the text column. (For an example, scroll down to the bottom of this page.)\n",
    "Look up these commands in the PostgreSQL documentation:\n",
    "\n",
    "Create Database (http://www.postgresql.org/docs/9.4/static/sql-createdatabase.html)  \n",
    "Drop Database (http://www.postgresql.org/docs/9.4/static/sql-dropdatabase.html)  \n",
    "Create Table (http://www.postgresql.org/docs/9.4/static/sql-createtable.html)  \n",
    "Drop Table (http://www.postgresql.org/docs/9.4/static/sql-droptable.html)  \n",
    "\n",
    "Here's an example insert statement you might try. Replace sometable with the name of the table you created:\n",
    "\n",
    "insert into sometable values ('This is text!');\n",
    "\n",
    "For more detail on the serial type, take a look at the last section of this page in the PostgreSQL manual: http://www.postgresql.org/docs/9.4/static/datatype-numeric.html"
   ]
  },
  {
   "cell_type": "markdown",
   "metadata": {},
   "source": [
    "### 11. Counting what isn’t there"
   ]
  },
  {
   "cell_type": "markdown",
   "metadata": {},
   "source": [
    "Counting rows in a single table is something you’ve seen many times before in this course. A column aggregated with the count aggregation function will return the number of rows in the table, or the number of rows for each value of a group by clause.  \n",
    "\n",
    "For instance, you saw queries like these back in Lesson 2:  \n",
    "\n",
    "select count(*) from animals;  \n",
    "-- returns the number of animals in the zoo  \n",
    "\n",
    "select count(*) from animals where species = ‘gorilla’;  \n",
    "-- returns the number of gorillas  \n",
    "\n",
    "select species, count(*) from animals group by species;  \n",
    "-- returns each species’ name and the number of animals of that species  \n",
    "\n",
    "Things get a little more complicated if you want to count the results of a join. Consider these tables we saw earlier in Lesson 4, the products and sales tables for a store:  \n",
    "\n",
    "Products and Sales  \n",
    "\n",
    "Suppose that we want to know how many times we have sold each product. In other words, for each sku value in the products table, we want to know the number of times it occurs in the sales table. We might start out with a query like this:  \n",
    "\n",
    "select products.name, products.sku, count(*) as num\n",
    "  from products join sales\n",
    "    on products.sku = sales.sku\n",
    "  group by products.sku;\n",
    "But this query might not do exactly what we want. If a particular sku has never been sold — if there are no entries for it in the sales table — then this query will not return a row for it at all.\n",
    "\n",
    "If we wanted to see a row with the number zero in it, we’ll be disappointed!\n",
    "\n",
    "However, there is a way to get the database to give us a count with a zero in it. To do this, we’ll need to change two things about this query —\n",
    "~~~~\n",
    "select products.name, products.sku, count(sales.sku) as num\n",
    "  from products left join sales\n",
    "    on products.sku = sales.sku\n",
    "  group by products.sku;\n",
    "  ~~~~\n",
    "This query will give us a row for every product in the products table, even the ones that have no sales in the sales table.  \n",
    "\n",
    "What’s changed? First, we’re using count(sales.sku) instead of count(*). This means that the database will count only rows where sales.sku is defined, instead of all rows.  \n",
    "\n",
    "Second, we’re using a left join instead of a plain join.  \n",
    "\n",
    "**Um, so what’s a left join?**  \n",
    "SQL supports a number of variations on the theme of joins. The kind of join that you have seen earlier in this course is called an inner join, and it is the most common kind of join — so common that SQL doesn’t actually make us say \"inner join\" to do one.  \n",
    "\n",
    "But the second most common is the left join, and its mirror-image partner, the right join. The words “left” and “right” refer to the tables to the left and right of the join operator. (Above, the left table is products and the right table is sales.)  \n",
    "\n",
    "A regular (inner) join returns only those rows where the two tables have entries matching the join condition. A left join returns all those rows, plus the rows where the left table has an entry but the right table doesn’t. And a right join does the same but for the right table.  \n",
    "\n",
    "(Just as “join” is short for “inner join”, so too is “left join” actually short for “left outer join”. But SQL lets us just say “left join”, which is a lot less typing. So we’ll do that.)"
   ]
  },
  {
   "cell_type": "markdown",
   "metadata": {},
   "source": [
    "#### Counting what isn't there - Solution"
   ]
  },
  {
   "cell_type": "markdown",
   "metadata": {},
   "source": [
    "Here's the original query from the quiz again —\n",
    "~~~\n",
    "select programs.name, count(*) as num\n",
    "       from programs join bugs\n",
    "         on programs.filename = bugs.filename\n",
    "       group by programs.name\n",
    "       order by num;\n",
    "       ~~~\n",
    "And here's one possible corrected version:  \n",
    "~~~~\n",
    "select programs.name, count(bugs.filename) as num\n",
    "       from programs left join bugs\n",
    "         on programs.filename = bugs.filename\n",
    "       group by programs.name\n",
    "       order by num;\n",
    "       ~~~~\n",
    "Something to watch out for: What do you put in the count aggregation? If you leave it as count(*) or use a column from the programs table, your query will count entries that don't have bugs as well as ones that do.  \n",
    "\n",
    "In order to correctly report a zero for programs that don't have any entries in the bugs table, you have to use a column from the bugs table as the argument to count. For instance, count(bugs.filename) will work, and so will count(bugs.description).  "
   ]
  },
  {
   "cell_type": "markdown",
   "metadata": {},
   "source": [
    "### 12. Subqueries"
   ]
  },
  {
   "cell_type": "markdown",
   "metadata": {},
   "source": [
    "Here are some sections in the PostgreSQL documentation that discuss other forms of subqueries:\n",
    "\n",
    "Scalar Subqueries (http://www.postgresql.org/docs/9.4/static/sql-expressions.html#SQL-SYNTAX-SCALAR-SUBQUERIES)  \n",
    "Subquery Expressions (http://www.postgresql.org/docs/9.4/static/functions-subquery.html)  \n",
    "The FROM clause (http://www.postgresql.org/docs/9.4/static/sql-select.html#SQL-FROM)  "
   ]
  },
  {
   "cell_type": "markdown",
   "metadata": {},
   "source": [
    "### 13. One Query, not two"
   ]
  },
  {
   "cell_type": "markdown",
   "metadata": {},
   "source": [
    "SQLite does not require a table alias (the as subq part) in this query. However, PostgreSQL does, and other database systems may."
   ]
  },
  {
   "cell_type": "code",
   "execution_count": 4,
   "metadata": {
    "collapsed": true
   },
   "outputs": [],
   "source": [
    "# Find the players whose weight is less than the average.\n",
    "# \n",
    "# The function below performs two database queries in order to find the right players.\n",
    "# Refactor this code so that it performs only one query.\n",
    "#\n",
    "\n",
    "def lightweights1(cursor):\n",
    "    \"\"\"Returns a list of the players in the db whose weight is less than the average.\"\"\"\n",
    "    cursor.execute(\"select avg(weight) as av from players;\")\n",
    "    av = cursor.fetchall()[0][0]  # first column of first (and only) row\n",
    "    cursor.execute(\"select name, weight from players where weight < \" + str(av))\n",
    "    return cursor.fetchall()\n",
    "\n",
    "def lightweights2(cursor):\n",
    "    \"\"\"Returns a list of the players in the db whose weight is less than the average.\"\"\"\n",
    "    cursor.execute(\"select name, weight from players where weight < (select avg(weight) as av from players);\")\n",
    "    return cursor.fetchall()\n",
    "\n",
    "def lightweights(cursor):\n",
    "    \"\"\"Returns a list of the players in the db whose weight is less than the average.\"\"\"\n",
    "    cursor.execute(\"select name, weight \\\n",
    "                   from players, (select avg(weight) as av from players) as subq \\\n",
    "                   where weight < av;\"\n",
    "                  )\n",
    "    return cursor.fetchall()"
   ]
  },
  {
   "cell_type": "code",
   "execution_count": null,
   "metadata": {
    "collapsed": true
   },
   "outputs": [],
   "source": []
  }
 ],
 "metadata": {
  "anaconda-cloud": {},
  "kernelspec": {
   "display_name": "Python [conda env:DAND]",
   "language": "python",
   "name": "conda-env-DAND-py"
  },
  "language_info": {
   "codemirror_mode": {
    "name": "ipython",
    "version": 2
   },
   "file_extension": ".py",
   "mimetype": "text/x-python",
   "name": "python",
   "nbconvert_exporter": "python",
   "pygments_lexer": "ipython2",
   "version": "2.7.12"
  }
 },
 "nbformat": 4,
 "nbformat_minor": 2
}
