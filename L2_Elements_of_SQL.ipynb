{
 "cells": [
  {
   "cell_type": "markdown",
   "metadata": {},
   "source": [
    "### 5. Select Where"
   ]
  },
  {
   "cell_type": "markdown",
   "metadata": {},
   "source": [
    "The syntax of the select statement with a where clause:\n",
    "\n",
    "select columns from tables where condition ;\n",
    "\n",
    "Columns are separated by commas; use * to select all columns.\n",
    "\n",
    "The condition is a Boolean expression on column values. SQL supports the Boolean operations and, or, and not which work the same as in Python.\n",
    "\n",
    "We can switch between the expression form (not X) and (not Y) and the form not (X or Y) because of a logic rule called DeMorgan's Law. You can read more about it in its Wikipedia article."
   ]
  },
  {
   "cell_type": "markdown",
   "metadata": {},
   "source": [
    "### 6. Comparison Operators"
   ]
  },
  {
   "cell_type": "markdown",
   "metadata": {},
   "source": [
    "The comparison operators in SQL are almost the same as the ones in Python: < for less than, > for greater than, != for not equal, <= for less than or equal, and so forth. One difference is that SQL uses = instead of == to represent equality. You can apply all the basic comparison operators to strings, numbers, dates, and other values.\n",
    "\n",
    "The columns in the animals table are name (a text string), species (also a text string), and birthdate (a date).\n",
    "\n",
    "Reminder: Dates in our databases will always be in the international standard format, e.g. '1999-12-31'. Make sure to put single quotes around dates.\n",
    "\n",
    "As a preview, here's the SQL command used to initially create this table:\n",
    "\n",
    "~~~~\n",
    "create table animals (  \n",
    "    name text,  \n",
    "    species text,  \n",
    "    birthdate date  \n",
    ");  \n",
    "~~~~"
   ]
  },
  {
   "cell_type": "markdown",
   "metadata": {},
   "source": [
    "### 7. SQL sucks at some things"
   ]
  },
  {
   "cell_type": "markdown",
   "metadata": {},
   "source": [
    "#### Reference \n",
    "For reference, here's a list of all the tables in the zoo database:\n",
    "\n",
    "**animals**  \n",
    "This table lists individual animals in the zoo. Each animal has only one row. There may be multiple animals with the same name, or even multiple animals with the same name and species.\n",
    "* name — the animal's name (example: 'George')\n",
    "* species — the animal's species (example: 'gorilla')\n",
    "* birthdate — the animal's date of birth (example: '1998-05-18')\n",
    "\n",
    "**diet**  \n",
    "This table matches up species with the foods they eat. Every species in the zoo eats at least one sort of food, and many eat more than one. If a species eats more than one food, there will be more than one row for that species.\n",
    "* species — the name of a species (example: 'hyena')\n",
    "* food — the name of a food that species eats (example: 'meat')\n",
    "\n",
    "**taxonomy**  \n",
    "This table gives the (partial) biological taxonomic names for each species in the zoo. It can be used to find which species are more closely related to each other evolutionarily.\n",
    "* name — the common name of the species (e.g. 'jackal')\n",
    "* species — the taxonomic species name (e.g. 'aureus')\n",
    "* genus — the taxonomic genus name (e.g. 'Canis')\n",
    "* family — the taxonomic family name (e.g. 'Canidae')\n",
    "* t_order — the taxonomic order name (e.g. 'Carnivora')\n",
    "If you've never heard of this classification, don't worry about it; the details won't be necessary for this course. But if you're curious, Wikipedia articles Taxonomy and Biological classification may help.\n",
    "\n",
    "**ordernames**  \n",
    "This table gives the common names for each of the taxonomic orders in the taxonomy table.\n",
    "* t_order — the taxonomic order name (e.g. 'Cetacea')\n",
    "* name — the common name (e.g. 'whales and dolphins')\n",
    "\n",
    "\n",
    "#### The SQL for it  \n",
    "And here are the SQL commands that were used to create those tables. We won't cover the create table command until lesson 4, but it may be interesting to look at:\n",
    "\n",
    "~~~~\n",
    "create table animals (  \n",
    "       name text,\n",
    "       species text,\n",
    "       birthdate date);\n",
    "\n",
    "create table diet (\n",
    "       species text,\n",
    "       food text);  \n",
    "\n",
    "create table taxonomy (\n",
    "       name text,\n",
    "       species text,\n",
    "       genus text,\n",
    "       family text,\n",
    "       t_order text); \n",
    "\n",
    "create table ordernames (\n",
    "       t_order text,\n",
    "       name text);\n",
    "~~~~\n",
    "       \n",
    "*Remember: In SQL, we always put string and date values inside single quotes.*"
   ]
  },
  {
   "cell_type": "markdown",
   "metadata": {},
   "source": [
    "### 8. Experiment Page"
   ]
  },
  {
   "cell_type": "code",
   "execution_count": null,
   "metadata": {
    "collapsed": true
   },
   "outputs": [],
   "source": [
    "# Uncomment one of these QUERY variables at a time and use \"Test Run\" to run it.\n",
    "# You'll see the results below.  Then try your own queries as well!\n",
    "#\n",
    "\n",
    "#QUERY = \"select max(name) from animals;\"\n",
    "\n",
    "#QUERY = \"select * from animals limit 10;\"\n",
    "\n",
    "#QUERY = \"select * from animals where species = 'orangutan' order by birthdate;\"\n",
    "\n",
    "#QUERY = \"select name from animals where species = 'orangutan' order by birthdate desc;\"\n",
    "\n",
    "#QUERY = \"select name, birthdate from animals order by name limit 10 offset 20;\"\n",
    "\n",
    "#QUERY = \"select species, min(birthdate) from animals group by species;\"\n",
    "\n",
    "#QUERY = '''\n",
    "#select name, count(*) as num from animals\n",
    "#group by name\n",
    "#order by num desc\n",
    "#limit 5;\n",
    "#'''"
   ]
  },
  {
   "cell_type": "markdown",
   "metadata": {},
   "source": [
    "### 9. Select Clauses"
   ]
  },
  {
   "cell_type": "markdown",
   "metadata": {},
   "source": [
    "Here are the new select clauses introduced in the previous video:\n",
    "\n",
    "... limit count\n",
    "Return just the first count rows of the result table.\n",
    "\n",
    "... limit count offset skip\n",
    "Return count rows starting after the first skip rows.\n",
    "\n",
    "... order by columns\n",
    "... order by columns desc\n",
    "Sort the rows using the columns (one or more, separated by commas) as the sort key. Numerical columns will be sorted in numerical order; string columns in alphabetical order. With desc, the order is reversed (desc-ending order).\n",
    "\n",
    "... group by columns\n",
    "Change the behavior of aggregations such as max, count, and sum. With group by, the aggregation will return one row for each distinct value in columns."
   ]
  },
  {
   "cell_type": "markdown",
   "metadata": {
    "collapsed": true
   },
   "source": [
    "### 10. Count all the species"
   ]
  },
  {
   "cell_type": "markdown",
   "metadata": {},
   "source": [
    "Select clauses  \n",
    "These are all the select clauses we've seen in the lesson so far.\n",
    "\n",
    "where  \n",
    "The where clause expresses restrictions — filtering a table for rows that follow a particular rule. where supports equalities, inequalities, and boolean operators (among other things):\n",
    "* where species = 'gorilla' — return only rows that have 'gorilla' as the value of the species column.\n",
    "* where name >= 'George' — return only rows where the name column is alphabetically after 'George'.\n",
    "* where species != 'gorilla' and name != 'George' — return only rows where species isn't 'gorilla' and name isn't 'George'.\n",
    "\n",
    "limit / offset  \n",
    "The limit clause sets a limit on how many rows to return in the result table. The optional offset clause says how far to skip ahead into the results. So limit 10 offset 100 will return 10 results starting with the 101st.\n",
    "\n",
    "order by  \n",
    "The order by clause tells the database how to sort the results — usually according to one or more columns. So order by species, name says to sort results first by the species column, then by name within each species.\n",
    "Ordering happens before limit/offset, so you can use them together to extract pages of alphabetized results. (Think of the pages of a dictionary.)\n",
    "\n",
    "The optional desc modifier tells the database to order results in descending order — for instance from large numbers to small ones, or from Z to A.\n",
    "\n",
    "group by  \n",
    "The group by clause is only used with aggregations, such as max or sum. Without a group by clause, a select statement with an aggregation will aggregate over the whole selected table(s), returning only one row. With a group by clause, it will return one row for each distinct value of the column or expression in the group by clause."
   ]
  },
  {
   "cell_type": "markdown",
   "metadata": {},
   "source": [
    "### 11. Insert: Adding rows"
   ]
  },
  {
   "cell_type": "markdown",
   "metadata": {},
   "source": [
    "The basic syntax for the insert statement:\n",
    "\n",
    "insert into table ( column1, column2, ... ) values ( val1, val2, ... );\n",
    "\n",
    "If the values are in the same order as the table's columns (starting with the first column), you don't have to specify the columns in the insert statement:\n",
    "\n",
    "insert into table values ( val1, val2, ... );\n",
    "\n",
    "For instance, if a table has three columns (a, b, c) and you want to insert into a and b, you can leave off the column names from the insert statement. But if you want to insert into b and c, or a and c, you have to specify the columns.\n",
    "\n",
    "A single insert statement can only insert into a single table. (Contrast this with the select statement, which can pull data from several tables using a join.)"
   ]
  },
  {
   "cell_type": "markdown",
   "metadata": {},
   "source": [
    "### 13. Find join"
   ]
  },
  {
   "cell_type": "markdown",
   "metadata": {},
   "source": [
    "To join two tables, first choose the join condition, or the rule you want the database to use to match rows from one table up with rows of the other table. Then write a join in terms of the columns in each table.\n",
    "\n",
    "For instance, if you want to join tables T and S by matching rows where T.color is the same as S.paint, you'd write a select statement using T join S on T.color = S.paint."
   ]
  },
  {
   "cell_type": "markdown",
   "metadata": {},
   "source": [
    "### 14. After aggregating"
   ]
  },
  {
   "cell_type": "markdown",
   "metadata": {},
   "source": [
    "The having clause works like the where clause, but it applies after group by aggregations take place. The syntax is like this:\n",
    "\n",
    "select columns from tables group by column having condition ;\n",
    "\n",
    "Usually, at least one of the columns will be an aggregate function such as count, max, or sum on one of the tables' columns. In order to apply having to an aggregated column, you'll want to give it a name using as. For instance, if you had a table of items sold in a store, and you wanted to find all the items that have sold more than five units, you could use:\n",
    "~~~~\n",
    "select name, count(*) as num from sales having num > 5;\n",
    "~~~~\n",
    "\n",
    "---\n",
    "You can have a select statement that uses only where, or only group by, or group by and having, or where and group by, or all three of them!\n",
    "\n",
    "But it doesn't usually make sense to use having without group by.\n",
    "\n",
    "If you use both where and having, the where condition will filter the rows that are going into the aggregation, and the having condition will filter the rows that come out of it.\n",
    "\n",
    "You can read more about having here:\n",
    "\n",
    "http://www.postgresql.org/docs/9.4/static/sql-select.html#SQL-HAVING\n",
    "\n",
    "There are a few different ways to solve this, but here's one of them:\n",
    "~~~~\n",
    "select food, count(animals.name) as num\n",
    "       from diet join animals \n",
    "       on diet.species = animals.species\n",
    "       group by food\n",
    "       having num = 1\n",
    "~~~~\n",
    "And here is another:\n",
    "~~~~\n",
    "select food, count(animals.name) as num\n",
    "       from diet, animals \n",
    "       where diet.species = animals.species\n",
    "       group by food\n",
    "       having num = 1\n",
    "       ~~~~"
   ]
  },
  {
   "cell_type": "code",
   "execution_count": null,
   "metadata": {
    "collapsed": true
   },
   "outputs": [],
   "source": []
  }
 ],
 "metadata": {
  "anaconda-cloud": {},
  "kernelspec": {
   "display_name": "Python [conda env:DAND]",
   "language": "python",
   "name": "conda-env-DAND-py"
  },
  "language_info": {
   "codemirror_mode": {
    "name": "ipython",
    "version": 2
   },
   "file_extension": ".py",
   "mimetype": "text/x-python",
   "name": "python",
   "nbconvert_exporter": "python",
   "pygments_lexer": "ipython2",
   "version": "2.7.12"
  }
 },
 "nbformat": 4,
 "nbformat_minor": 2
}
