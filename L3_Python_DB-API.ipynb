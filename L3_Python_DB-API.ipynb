{
 "cells": [
  {
   "cell_type": "markdown",
   "metadata": {},
   "source": [
    "### 3. Writing Code with DB-API"
   ]
  },
  {
   "cell_type": "markdown",
   "metadata": {},
   "source": [
    "The connect function for PostgreSQL uses a different argument syntax from the one for SQLite. When you want to connect to a database called, say, bears, you'll use psycopg2.connect(\"dbname=bears\").\n"
   ]
  },
  {
   "cell_type": "markdown",
   "metadata": {},
   "source": [
    "### 4. Trying out DB-API"
   ]
  },
  {
   "cell_type": "code",
   "execution_count": 1,
   "metadata": {
    "collapsed": false
   },
   "outputs": [
    {
     "ename": "OperationalError",
     "evalue": "no such table: students",
     "output_type": "error",
     "traceback": [
      "\u001b[0;31m---------------------------------------------------------------------------\u001b[0m",
      "\u001b[0;31mOperationalError\u001b[0m                          Traceback (most recent call last)",
      "\u001b[0;32m<ipython-input-1-490384991f9c>\u001b[0m in \u001b[0;36m<module>\u001b[0;34m()\u001b[0m\n\u001b[1;32m     12\u001b[0m \u001b[0mc\u001b[0m \u001b[0;34m=\u001b[0m \u001b[0mdb\u001b[0m\u001b[0;34m.\u001b[0m\u001b[0mcursor\u001b[0m\u001b[0;34m(\u001b[0m\u001b[0;34m)\u001b[0m\u001b[0;34m\u001b[0m\u001b[0m\n\u001b[1;32m     13\u001b[0m \u001b[0mquery\u001b[0m \u001b[0;34m=\u001b[0m \u001b[0;34m\"select name, id from students;\"\u001b[0m\u001b[0;34m\u001b[0m\u001b[0m\n\u001b[0;32m---> 14\u001b[0;31m \u001b[0mc\u001b[0m\u001b[0;34m.\u001b[0m\u001b[0mexecute\u001b[0m\u001b[0;34m(\u001b[0m\u001b[0mquery\u001b[0m\u001b[0;34m)\u001b[0m\u001b[0;34m\u001b[0m\u001b[0m\n\u001b[0m\u001b[1;32m     15\u001b[0m \u001b[0mrows\u001b[0m \u001b[0;34m=\u001b[0m \u001b[0mc\u001b[0m\u001b[0;34m.\u001b[0m\u001b[0mfetchall\u001b[0m\u001b[0;34m(\u001b[0m\u001b[0;34m)\u001b[0m\u001b[0;34m\u001b[0m\u001b[0m\n\u001b[1;32m     16\u001b[0m \u001b[0;34m\u001b[0m\u001b[0m\n",
      "\u001b[0;31mOperationalError\u001b[0m: no such table: students"
     ]
    }
   ],
   "source": [
    "# To see how the various functions in the DB-API work, take a look at this code,\n",
    "# then the results that it prints when you press \"Test Run\".\n",
    "#\n",
    "# Then modify this code so that the student records are fetched in sorted order\n",
    "# by student's name.\n",
    "#\n",
    "\n",
    "import sqlite3\n",
    "\n",
    "# Fetch some student records from the database.\n",
    "db = sqlite3.connect(\"students\")\n",
    "c = db.cursor()\n",
    "query = \"select name, id from students;\"\n",
    "c.execute(query)\n",
    "rows = c.fetchall()\n",
    "\n",
    "# First, what data structure did we get?\n",
    "print \"Row data:\"\n",
    "print rows\n",
    "\n",
    "# And let's loop over it too:\n",
    "print\n",
    "print \"Student names:\"\n",
    "for row in rows:\n",
    "  print \"  \", row[0]\n",
    "\n",
    "db.close()"
   ]
  },
  {
   "cell_type": "markdown",
   "metadata": {},
   "source": [
    "### 5. Inserts in DB API"
   ]
  },
  {
   "cell_type": "code",
   "execution_count": 2,
   "metadata": {
    "collapsed": false
   },
   "outputs": [
    {
     "ename": "OperationalError",
     "evalue": "no such table: balloons",
     "output_type": "error",
     "traceback": [
      "\u001b[0;31m---------------------------------------------------------------------------\u001b[0m",
      "\u001b[0;31mOperationalError\u001b[0m                          Traceback (most recent call last)",
      "\u001b[0;32m<ipython-input-2-a74b91b97373>\u001b[0m in \u001b[0;36m<module>\u001b[0;34m()\u001b[0m\n\u001b[1;32m      8\u001b[0m \u001b[0mdb\u001b[0m \u001b[0;34m=\u001b[0m \u001b[0msqlite3\u001b[0m\u001b[0;34m.\u001b[0m\u001b[0mconnect\u001b[0m\u001b[0;34m(\u001b[0m\u001b[0;34m\"testdb\"\u001b[0m\u001b[0;34m)\u001b[0m\u001b[0;34m\u001b[0m\u001b[0m\n\u001b[1;32m      9\u001b[0m \u001b[0mc\u001b[0m \u001b[0;34m=\u001b[0m \u001b[0mdb\u001b[0m\u001b[0;34m.\u001b[0m\u001b[0mcursor\u001b[0m\u001b[0;34m(\u001b[0m\u001b[0;34m)\u001b[0m\u001b[0;34m\u001b[0m\u001b[0m\n\u001b[0;32m---> 10\u001b[0;31m \u001b[0mc\u001b[0m\u001b[0;34m.\u001b[0m\u001b[0mexecute\u001b[0m\u001b[0;34m(\u001b[0m\u001b[0;34m\"insert into balloons values ('blue', 'water') \"\u001b[0m\u001b[0;34m)\u001b[0m\u001b[0;34m\u001b[0m\u001b[0m\n\u001b[0m\u001b[1;32m     11\u001b[0m \u001b[0mdb\u001b[0m\u001b[0;34m.\u001b[0m\u001b[0mclose\u001b[0m\u001b[0;34m(\u001b[0m\u001b[0;34m)\u001b[0m\u001b[0;34m\u001b[0m\u001b[0m\n\u001b[1;32m     12\u001b[0m \u001b[0;36m1\u001b[0m\u001b[0;34m\u001b[0m\u001b[0m\n",
      "\u001b[0;31mOperationalError\u001b[0m: no such table: balloons"
     ]
    }
   ],
   "source": [
    "# This code attempts to insert a new row into the database, but doesn't\n",
    "# commit the insertion.  Add a commit call in the right place to make\n",
    "# it work properly.\n",
    "# \n",
    "\n",
    "import sqlite3\n",
    "\n",
    "db = sqlite3.connect(\"testdb\")\n",
    "c = db.cursor()\n",
    "c.execute(\"insert into balloons values ('blue', 'water') \")\n",
    "db.close()\n",
    "1"
   ]
  },
  {
   "cell_type": "markdown",
   "metadata": {},
   "source": [
    "### 7. Hello PostgreSQL"
   ]
  },
  {
   "cell_type": "markdown",
   "metadata": {},
   "source": [
    "Hello PostgreSQL\n",
    "The psql command-line tool is really powerful. There's a complete reference to it in the PostgreSQL documentation.\n",
    "\n",
    "To connect psql to a database running on the same machine (such as your VM), all you need to give it is the database name. For instance, the command psql forum will connect to the forum database.\n",
    "\n",
    "From within psql, you can run any SQL statement using the tables in the connected database. Make sure to end SQL statements with a semicolon, which is not always required from Python.\n",
    "\n",
    "You can also use a number of special psql commands to get information about the database and make configuration changes. The \\d posts command shown in the video is one example — this displays the columns of the posts table.\n",
    "\n",
    "Some other things you can do:\n",
    "\n",
    "\\dt — list all the tables in the database.\n",
    "\n",
    "\\dt+ — list tables plus additional information (notably, how big each table is on disk).\n",
    "\n",
    "\\H — switch between printing tables in plain text vs. HTML.\n",
    "\n",
    "Here's a fun one to run in psql while your forum web app is running:\n",
    "\n",
    "select * from posts \\watch\n",
    "\n",
    "(Note that \\watch replaces the semicolon.) This will display the contents of the posts table and refresh it every two seconds, so you can see changes to the table as you use the app.\n",
    "\n",
    "In order to do this, you'll need two terminal sessions into your VM — one running the forum app, and the other running psql. You can connect to the VM from any number of terminal windows at once — just open up another terminal, change to the vagrant directory, and type vagrant ssh again.\n"
   ]
  },
  {
   "cell_type": "markdown",
   "metadata": {},
   "source": [
    "### 8. Give That App A Backend"
   ]
  },
  {
   "cell_type": "markdown",
   "metadata": {},
   "source": [
    "The forum database has already been created for you. Your code will need to connect to it using psycopg2.connect(\"dbname=forum\") and then perform select and insert operations on the posts table.\n",
    "\n",
    "The existing GetAllPosts function returns all the entries from a list. So its database version should return all the entries from the posts table.\n",
    "\n",
    "And likewise, the existing AddPost function inserts an entry into a list.\n",
    "\n",
    "You do not need to provide the time column when you insert a post. The table is set up to already provide a timestamp.\n",
    "\n",
    "The existing GetAllPosts function sorts the posts using a Python sort function. When you implement this function using the database, can you avoid sorting in Python by doing it in SQL?"
   ]
  },
  {
   "cell_type": "markdown",
   "metadata": {},
   "source": [
    "#### 13. Updating away spam"
   ]
  },
  {
   "cell_type": "markdown",
   "metadata": {},
   "source": [
    "The syntax of the update statement:\n",
    "\n",
    "update table set column = value where restriction ;\n",
    "\n",
    "The restriction works the same as in select and supports the same set of operators on column values.\n",
    "\n",
    "The like operator supports a simple form of text pattern-matching. Whatever is on the left side of the operator (usually the name of a text column) will be matched against the pattern on the right. The pattern is an SQL text string (so it's in 'single quotes') and can use the % sign to match any sub-string, including the empty string.\n",
    "\n",
    "If you are familiar with regular expressions, think of the % in like patterns as being like the regex .* (dot star).\n",
    "\n",
    "If you are more familiar with filename patterns in the Unix shell or Windows command prompt, % here is a lot like * (star) in those systems.\n",
    "\n",
    "For instance, for a table row where the column fish has the value 'salmon', all of these restrictions would be true:\n",
    "\n",
    "fish like 'salmon'  \n",
    "fish like 'salmon%'  \n",
    "fish like 'sal%'  \n",
    "fish like '%n'  \n",
    "fish like 's%n'  \n",
    "fish like '%al%'  \n",
    "fish like '%'  \n",
    "fish like '%%%'  \n",
    "\n",
    "And all of these would be false:  \n",
    "fish like 'carp'  \n",
    "fish like 'salmonella'  \n",
    "fish like '%b%'  \n",
    "fish like 'b%'  \n",
    "fish like ''  "
   ]
  },
  {
   "cell_type": "markdown",
   "metadata": {},
   "source": [
    "### 14. Deleting The Spam"
   ]
  },
  {
   "cell_type": "markdown",
   "metadata": {},
   "source": [
    "Quiz: Deleting The Spam\n",
    "Don't remember who Bobby Tables is?\n",
    "\n",
    "He's got his own web site now: http://bobby-tables.com/\n",
    "\n",
    "The syntax for the delete command: delete from table where restriction ; The restriction works the same way as in select, with the same set of operators allowed."
   ]
  },
  {
   "cell_type": "code",
   "execution_count": null,
   "metadata": {
    "collapsed": true
   },
   "outputs": [],
   "source": []
  }
 ],
 "metadata": {
  "anaconda-cloud": {},
  "kernelspec": {
   "display_name": "Python [conda env:DAND]",
   "language": "python",
   "name": "conda-env-DAND-py"
  },
  "language_info": {
   "codemirror_mode": {
    "name": "ipython",
    "version": 2
   },
   "file_extension": ".py",
   "mimetype": "text/x-python",
   "name": "python",
   "nbconvert_exporter": "python",
   "pygments_lexer": "ipython2",
   "version": "2.7.12"
  }
 },
 "nbformat": 4,
 "nbformat_minor": 2
}
